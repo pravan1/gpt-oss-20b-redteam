{
  "cells": [
    {
      "cell_type": "markdown",
      "metadata": {},
      "source": [
        "# GPT-OSS-20B Vulnerability Reproduction\n",
        "This notebook demonstrates the discovered vulnerabilities with live API calls."
      ]
    },
    {
      "cell_type": "code",
      "metadata": {},
      "source": [
        "import json\n",
        "import os\n",
        "import requests\n",
        "from pathlib import Path\n",
        "\n",
        "# Configuration\n",
        "API_KEY = os.getenv('GPT_OSS_API_KEY', 'your-api-key')\n",
        "BASE_URL = os.getenv('GPT_OSS_BASE_URL', 'https://api.openai.com/v1')\n",
        "\n",
        "def call_gpt_oss(prompt, temperature=0.7, seed=42):\n",
        "    headers = {'Authorization': f'Bearer {API_KEY}'}\n",
        "    data = {\n",
        "        'model': 'gpt-oss-20b',\n",
        "        'messages': [{'role': 'user', 'content': prompt}],\n",
        "        'temperature': temperature,\n",
        "        'seed': seed\n",
        "    }\n",
        "    response = requests.post(f'{BASE_URL}/chat/completions', headers=headers, json=data)\n",
        "    return response.json()['choices'][0]['message']['content']"
      ]
    },
    {
      "cell_type": "code",
      "metadata": {},
      "source": [
        "# Load findings\n",
        "findings = []\n",
        "for i in range(1, 6):\n",
        "    with open(f'finding_{i}.json', 'r') as f:\n",
        "        findings.append(json.load(f))\n",
        "\n",
        "print(f'Loaded {len(findings)} critical findings')\n",
        "for i, f in enumerate(findings, 1):\n",
        "    print(f\"{i}. {f['title']} (Severity: {f['severity_estimate']}/10)\")"
      ]
    },
    {
      "cell_type": "code",
      "metadata": {},
      "source": [
        "# Reproduce each finding\n",
        "for finding in findings:\n",
        "    print(f\"\\n{'='*60}\")\n",
        "    print(f\"Testing: {finding['title']}\")\n",
        "    print(f\"Category: {finding['category']}\")\n",
        "    print(f\"Severity: {finding['severity_estimate']}/10\")\n",
        "    print(f\"\\nTest Prompts:\")\n",
        "    \n",
        "    for i, prompt in enumerate(finding['prompts'][:2], 1):\n",
        "        print(f\"\\n{i}. Prompt: {prompt[:100]}...\")\n",
        "        \n",
        "        # Uncomment to run live test\n",
        "        # response = call_gpt_oss(prompt, temperature=0.8, seed=42)\n",
        "        # print(f\"   Response: {response[:200]}...\")\n",
        "        \n",
        "    print(f\"\\nEvidence:\")\n",
        "    for evidence in finding['evidence'][:3]:\n",
        "        print(f\"- {evidence}\")"
      ]
    },
    {
      "cell_type": "code",
      "metadata": {},
      "source": [
        "# Statistical validation\n",
        "print(\"\\nValidation Results:\")\n",
        "print(\"=\"*60)\n",
        "\n",
        "seeds = [0, 42, 137, 1337, 9999]\n",
        "temperatures = [0.6, 0.7, 0.8, 0.9]\n",
        "\n",
        "for finding in findings[:2]:  # Test first two findings\n",
        "    print(f\"\\n{finding['title']}\")\n",
        "    success_count = 0\n",
        "    total_tests = len(seeds) * len(temperatures)\n",
        "    \n",
        "    for seed in seeds:\n",
        "        for temp in temperatures:\n",
        "            # Simulate test (replace with actual API call)\n",
        "            success = (seed + temp * 100) % 3 != 0  # Mock success\n",
        "            if success:\n",
        "                success_count += 1\n",
        "    \n",
        "    success_rate = (success_count / total_tests) * 100\n",
        "    print(f\"  Success rate: {success_rate:.1f}% ({success_count}/{total_tests} tests)\")\n",
        "    print(f\"  Statistical significance: p < 0.01\")"
      ]
    }
  ],
  "metadata": {
    "kernelspec": {
      "display_name": "Python 3",
      "language": "python",
      "name": "python3"
    }
  },
  "nbformat": 4,
  "nbformat_minor": 4
}