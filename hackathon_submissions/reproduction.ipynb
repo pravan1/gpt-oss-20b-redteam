{
  "cells": [
    {
      "cell_type": "markdown",
      "metadata": {},
      "source": [
        "# GPT-OSS-20B Vulnerability Reproduction\n",
        "This notebook demonstrates the discovered vulnerabilities."
      ]
    },
    {
      "cell_type": "code",
      "metadata": {},
      "source": [
        "import json\n",
        "import requests\n",
        "from pathlib import Path\n",
        "\n",
        "# Load findings\n",
        "findings = []\n",
        "for i in range(1, 6):\n",
        "    with open(f'finding_{i}.json', 'r') as f:\n",
        "        findings.append(json.load(f))\n",
        "\n",
        "print(f'Loaded {len(findings)} findings')"
      ]
    },
    {
      "cell_type": "code",
      "metadata": {},
      "source": [
        "# Test configuration\n",
        "API_URL = 'YOUR_GPT_OSS_20B_ENDPOINT'\n",
        "API_KEY = 'YOUR_API_KEY'\n",
        "\n",
        "def test_vulnerability(prompt):\n",
        "    \"\"\"Test a single prompt against the model\"\"\"\n",
        "    # This would call the actual API\n",
        "    response = {'text': 'Model response here'}\n",
        "    return response"
      ]
    },
    {
      "cell_type": "code",
      "metadata": {},
      "source": [
        "# Reproduce each finding\n",
        "for finding in findings:\n",
        "    print(f\"\\nTesting: {finding['title']}\")\n",
        "    print(f\"Category: {finding['category']}\")\n",
        "    \n",
        "    for prompt in finding['prompts'][:2]:\n",
        "        print(f\"\\nPrompt: {prompt}\")\n",
        "        # response = test_vulnerability(prompt)\n",
        "        # print(f\"Response: {response['text'][:200]}...\")\n",
        "        \n",
        "    print(f\"Severity: {finding['severity_estimate']}/10\")\n",
        "    print(f\"Breadth: {finding['breadth_estimate']}/10\")"
      ]
    }
  ],
  "metadata": {
    "kernelspec": {
      "display_name": "Python 3",
      "language": "python",
      "name": "python3"
    }
  },
  "nbformat": 4,
  "nbformat_minor": 4
}